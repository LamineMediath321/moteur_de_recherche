{
 "cells": [
  {
   "cell_type": "markdown",
   "id": "1908d854",
   "metadata": {},
   "source": [
    "#### Processing"
   ]
  },
  {
   "cell_type": "code",
   "execution_count": 1,
   "id": "f9d5f443",
   "metadata": {},
   "outputs": [],
   "source": [
    "import numpy as np\n",
    "import pandas as pd"
   ]
  },
  {
   "cell_type": "code",
   "execution_count": 2,
   "id": "23c8ca8f",
   "metadata": {},
   "outputs": [
    {
     "data": {
      "text/html": [
       "<div>\n",
       "<style scoped>\n",
       "    .dataframe tbody tr th:only-of-type {\n",
       "        vertical-align: middle;\n",
       "    }\n",
       "\n",
       "    .dataframe tbody tr th {\n",
       "        vertical-align: top;\n",
       "    }\n",
       "\n",
       "    .dataframe thead th {\n",
       "        text-align: right;\n",
       "    }\n",
       "</style>\n",
       "<table border=\"1\" class=\"dataframe\">\n",
       "  <thead>\n",
       "    <tr style=\"text-align: right;\">\n",
       "      <th></th>\n",
       "      <th>identifiantArticle</th>\n",
       "      <th>urlArticle</th>\n",
       "      <th>sourceArticle</th>\n",
       "      <th>thematiqueArticle</th>\n",
       "      <th>imagesArticle</th>\n",
       "      <th>titreArticle</th>\n",
       "      <th>resumeArticle</th>\n",
       "      <th>auteurArticle</th>\n",
       "      <th>datePublicationArticle</th>\n",
       "      <th>contenuArticle</th>\n",
       "    </tr>\n",
       "  </thead>\n",
       "  <tbody>\n",
       "    <tr>\n",
       "      <th>0</th>\n",
       "      <td>https___www.journaldupays.com_2020_casamance-l...</td>\n",
       "      <td>https://www.journaldupays.com/2020/casamance-l...</td>\n",
       "      <td>journaldupays</td>\n",
       "      <td>Actualité</td>\n",
       "      <td>['https://www.journaldupays.com/wp-content/upl...</td>\n",
       "      <td>Casamance : L’état de siège instauré par le MF...</td>\n",
       "      <td>Depuis hier lundi vers 20 heures par mégaphone...</td>\n",
       "      <td>Samsidine Badji</td>\n",
       "      <td>2020-03-31T09:37:45+00:00</td>\n",
       "      <td>Depuis hier lundi vers 20 heures par mégaphone...</td>\n",
       "    </tr>\n",
       "    <tr>\n",
       "      <th>1</th>\n",
       "      <td>https___www.xibaaru.sn_covid-19-des-volontaire...</td>\n",
       "      <td>https://www.xibaaru.sn/covid-19-des-volontaire...</td>\n",
       "      <td>xibaaru</td>\n",
       "      <td>Santé</td>\n",
       "      <td>['https://www.xibaaru.sn/wp-content/uploads/20...</td>\n",
       "      <td>Covid-19 : Des volontaires de la Croix Rouge e...</td>\n",
       "      <td>Un dispositif opérationnel de 1175 volontaires...</td>\n",
       "      <td>NaN</td>\n",
       "      <td>2020-04-06T13:27:14+00:00</td>\n",
       "      <td>Un dispositif opérationnel de 1175 volontaires...</td>\n",
       "    </tr>\n",
       "    <tr>\n",
       "      <th>2</th>\n",
       "      <td>https___www.vivafrik.com_2020_03_21_miser-sur-...</td>\n",
       "      <td>https://www.vivafrik.com/2020/03/21/miser-sur-...</td>\n",
       "      <td>vivafrik</td>\n",
       "      <td>NaN</td>\n",
       "      <td>['https://www.vivafrik.com/wp-content/plugins/...</td>\n",
       "      <td>Miser sur l'innovation en Afrique pour booster...</td>\n",
       "      <td>Miser sur l’innovation en Afrique pour booster...</td>\n",
       "      <td>Moctar FICOU</td>\n",
       "      <td>2020-03-21T08:38:55+00:00</td>\n",
       "      <td>L’innovation joue un prépondérant dans le déve...</td>\n",
       "    </tr>\n",
       "    <tr>\n",
       "      <th>3</th>\n",
       "      <td>https___www.dakaractu.com_saint-louis-alioune-...</td>\n",
       "      <td>https://www.dakaractu.com/saint-louis-alioune-...</td>\n",
       "      <td>dakaractu</td>\n",
       "      <td>NaN</td>\n",
       "      <td>['https://www.dakaractu.com/photo/art/grande/4...</td>\n",
       "      <td>Saint-Louis : Alioune Badara Diagne dit Golber...</td>\n",
       "      <td>&amp;nbsp; Rappelé à Dieu hier à&amp;nbsp;l'âge de 79 ...</td>\n",
       "      <td>Dakaractu</td>\n",
       "      <td>Samedi 4 Avril 2020</td>\n",
       "      <td>Saint-Louis : Alioune Badara Diagne dit Golber...</td>\n",
       "    </tr>\n",
       "    <tr>\n",
       "      <th>4</th>\n",
       "      <td>http___thieysenegal.com_actualite-internationa...</td>\n",
       "      <td>http://thieysenegal.com/actualite-internationa...</td>\n",
       "      <td>thieysenegal</td>\n",
       "      <td>NaN</td>\n",
       "      <td>['http://thieysenegal.com/images/covidee19mode...</td>\n",
       "      <td>Coronavirus: l’état du monde face à la pandémi...</td>\n",
       "      <td>Thiey Senegal,actualité sénégalaise,informatio...</td>\n",
       "      <td>Thiey Senegal</td>\n",
       "      <td>NaN</td>\n",
       "      <td>THIEYSENEGAL.com : Le nombre officiel de conta...</td>\n",
       "    </tr>\n",
       "  </tbody>\n",
       "</table>\n",
       "</div>"
      ],
      "text/plain": [
       "                                  identifiantArticle  \\\n",
       "0  https___www.journaldupays.com_2020_casamance-l...   \n",
       "1  https___www.xibaaru.sn_covid-19-des-volontaire...   \n",
       "2  https___www.vivafrik.com_2020_03_21_miser-sur-...   \n",
       "3  https___www.dakaractu.com_saint-louis-alioune-...   \n",
       "4  http___thieysenegal.com_actualite-internationa...   \n",
       "\n",
       "                                          urlArticle  sourceArticle  \\\n",
       "0  https://www.journaldupays.com/2020/casamance-l...  journaldupays   \n",
       "1  https://www.xibaaru.sn/covid-19-des-volontaire...        xibaaru   \n",
       "2  https://www.vivafrik.com/2020/03/21/miser-sur-...       vivafrik   \n",
       "3  https://www.dakaractu.com/saint-louis-alioune-...      dakaractu   \n",
       "4  http://thieysenegal.com/actualite-internationa...   thieysenegal   \n",
       "\n",
       "  thematiqueArticle                                      imagesArticle  \\\n",
       "0         Actualité  ['https://www.journaldupays.com/wp-content/upl...   \n",
       "1             Santé  ['https://www.xibaaru.sn/wp-content/uploads/20...   \n",
       "2               NaN  ['https://www.vivafrik.com/wp-content/plugins/...   \n",
       "3               NaN  ['https://www.dakaractu.com/photo/art/grande/4...   \n",
       "4               NaN  ['http://thieysenegal.com/images/covidee19mode...   \n",
       "\n",
       "                                        titreArticle  \\\n",
       "0  Casamance : L’état de siège instauré par le MF...   \n",
       "1  Covid-19 : Des volontaires de la Croix Rouge e...   \n",
       "2  Miser sur l'innovation en Afrique pour booster...   \n",
       "3  Saint-Louis : Alioune Badara Diagne dit Golber...   \n",
       "4  Coronavirus: l’état du monde face à la pandémi...   \n",
       "\n",
       "                                       resumeArticle    auteurArticle  \\\n",
       "0  Depuis hier lundi vers 20 heures par mégaphone...  Samsidine Badji   \n",
       "1  Un dispositif opérationnel de 1175 volontaires...              NaN   \n",
       "2  Miser sur l’innovation en Afrique pour booster...     Moctar FICOU   \n",
       "3  &nbsp; Rappelé à Dieu hier à&nbsp;l'âge de 79 ...        Dakaractu   \n",
       "4  Thiey Senegal,actualité sénégalaise,informatio...    Thiey Senegal   \n",
       "\n",
       "      datePublicationArticle  \\\n",
       "0  2020-03-31T09:37:45+00:00   \n",
       "1  2020-04-06T13:27:14+00:00   \n",
       "2  2020-03-21T08:38:55+00:00   \n",
       "3        Samedi 4 Avril 2020   \n",
       "4                        NaN   \n",
       "\n",
       "                                      contenuArticle  \n",
       "0  Depuis hier lundi vers 20 heures par mégaphone...  \n",
       "1  Un dispositif opérationnel de 1175 volontaires...  \n",
       "2  L’innovation joue un prépondérant dans le déve...  \n",
       "3  Saint-Louis : Alioune Badara Diagne dit Golber...  \n",
       "4  THIEYSENEGAL.com : Le nombre officiel de conta...  "
      ]
     },
     "execution_count": 2,
     "metadata": {},
     "output_type": "execute_result"
    }
   ],
   "source": [
    "data = pd.read_csv('articles/articles.csv')\n",
    "data.head()"
   ]
  },
  {
   "cell_type": "code",
   "execution_count": 4,
   "id": "fb4d4eb2",
   "metadata": {},
   "outputs": [
    {
     "data": {
      "text/plain": [
       "identifiantArticle            0\n",
       "urlArticle                    0\n",
       "sourceArticle                 0\n",
       "thematiqueArticle         34206\n",
       "imagesArticle                 0\n",
       "titreArticle                  0\n",
       "resumeArticle              7387\n",
       "auteurArticle             13087\n",
       "datePublicationArticle     7862\n",
       "contenuArticle              266\n",
       "dtype: int64"
      ]
     },
     "execution_count": 4,
     "metadata": {},
     "output_type": "execute_result"
    }
   ],
   "source": [
    "#Pour chaque feature on affiche son nombre de valeurs manquantes\n",
    "data.isna().sum()"
   ]
  },
  {
   "cell_type": "markdown",
   "id": "9f3365ce",
   "metadata": {},
   "source": [
    "### Prétraitement "
   ]
  },
  {
   "cell_type": "code",
   "execution_count": 9,
   "id": "63907faa",
   "metadata": {},
   "outputs": [
    {
     "data": {
      "text/html": [
       "<div>\n",
       "<style scoped>\n",
       "    .dataframe tbody tr th:only-of-type {\n",
       "        vertical-align: middle;\n",
       "    }\n",
       "\n",
       "    .dataframe tbody tr th {\n",
       "        vertical-align: top;\n",
       "    }\n",
       "\n",
       "    .dataframe thead th {\n",
       "        text-align: right;\n",
       "    }\n",
       "</style>\n",
       "<table border=\"1\" class=\"dataframe\">\n",
       "  <thead>\n",
       "    <tr style=\"text-align: right;\">\n",
       "      <th></th>\n",
       "      <th>identifiantArticle</th>\n",
       "      <th>urlArticle</th>\n",
       "      <th>sourceArticle</th>\n",
       "      <th>thematiqueArticle</th>\n",
       "      <th>imagesArticle</th>\n",
       "      <th>titreArticle</th>\n",
       "      <th>resumeArticle</th>\n",
       "      <th>auteurArticle</th>\n",
       "      <th>datePublicationArticle</th>\n",
       "      <th>contenuArticle</th>\n",
       "    </tr>\n",
       "  </thead>\n",
       "  <tbody>\n",
       "    <tr>\n",
       "      <th>0</th>\n",
       "      <td>https___www.journaldupays.com_2020_casamance-l...</td>\n",
       "      <td>https://www.journaldupays.com/2020/casamance-l...</td>\n",
       "      <td>journaldupays</td>\n",
       "      <td>Actualité</td>\n",
       "      <td>['https://www.journaldupays.com/wp-content/upl...</td>\n",
       "      <td>Casamance : L’état de siège instauré par le MF...</td>\n",
       "      <td>Depuis hier lundi vers 20 heures par mégaphone...</td>\n",
       "      <td>Samsidine Badji</td>\n",
       "      <td>2020-03-31T09:37:45+00:00</td>\n",
       "      <td>Depuis hier lundi vers 20 heures par mégaphone...</td>\n",
       "    </tr>\n",
       "    <tr>\n",
       "      <th>1</th>\n",
       "      <td>https___www.xibaaru.sn_covid-19-des-volontaire...</td>\n",
       "      <td>https://www.xibaaru.sn/covid-19-des-volontaire...</td>\n",
       "      <td>xibaaru</td>\n",
       "      <td>Santé</td>\n",
       "      <td>['https://www.xibaaru.sn/wp-content/uploads/20...</td>\n",
       "      <td>Covid-19 : Des volontaires de la Croix Rouge e...</td>\n",
       "      <td>Un dispositif opérationnel de 1175 volontaires...</td>\n",
       "      <td>NaN</td>\n",
       "      <td>2020-04-06T13:27:14+00:00</td>\n",
       "      <td>Un dispositif opérationnel de 1175 volontaires...</td>\n",
       "    </tr>\n",
       "    <tr>\n",
       "      <th>2</th>\n",
       "      <td>https___www.vivafrik.com_2020_03_21_miser-sur-...</td>\n",
       "      <td>https://www.vivafrik.com/2020/03/21/miser-sur-...</td>\n",
       "      <td>vivafrik</td>\n",
       "      <td>NaN</td>\n",
       "      <td>['https://www.vivafrik.com/wp-content/plugins/...</td>\n",
       "      <td>Miser sur l'innovation en Afrique pour booster...</td>\n",
       "      <td>Miser sur l’innovation en Afrique pour booster...</td>\n",
       "      <td>Moctar FICOU</td>\n",
       "      <td>2020-03-21T08:38:55+00:00</td>\n",
       "      <td>L’innovation joue un prépondérant dans le déve...</td>\n",
       "    </tr>\n",
       "    <tr>\n",
       "      <th>3</th>\n",
       "      <td>https___www.dakaractu.com_saint-louis-alioune-...</td>\n",
       "      <td>https://www.dakaractu.com/saint-louis-alioune-...</td>\n",
       "      <td>dakaractu</td>\n",
       "      <td>NaN</td>\n",
       "      <td>['https://www.dakaractu.com/photo/art/grande/4...</td>\n",
       "      <td>Saint-Louis : Alioune Badara Diagne dit Golber...</td>\n",
       "      <td>&amp;nbsp; Rappelé à Dieu hier à&amp;nbsp;l'âge de 79 ...</td>\n",
       "      <td>Dakaractu</td>\n",
       "      <td>Samedi 4 Avril 2020</td>\n",
       "      <td>Saint-Louis : Alioune Badara Diagne dit Golber...</td>\n",
       "    </tr>\n",
       "    <tr>\n",
       "      <th>4</th>\n",
       "      <td>http___thieysenegal.com_actualite-internationa...</td>\n",
       "      <td>http://thieysenegal.com/actualite-internationa...</td>\n",
       "      <td>thieysenegal</td>\n",
       "      <td>NaN</td>\n",
       "      <td>['http://thieysenegal.com/images/covidee19mode...</td>\n",
       "      <td>Coronavirus: l’état du monde face à la pandémi...</td>\n",
       "      <td>Thiey Senegal,actualité sénégalaise,informatio...</td>\n",
       "      <td>Thiey Senegal</td>\n",
       "      <td>NaN</td>\n",
       "      <td>THIEYSENEGAL.com : Le nombre officiel de conta...</td>\n",
       "    </tr>\n",
       "    <tr>\n",
       "      <th>...</th>\n",
       "      <td>...</td>\n",
       "      <td>...</td>\n",
       "      <td>...</td>\n",
       "      <td>...</td>\n",
       "      <td>...</td>\n",
       "      <td>...</td>\n",
       "      <td>...</td>\n",
       "      <td>...</td>\n",
       "      <td>...</td>\n",
       "      <td>...</td>\n",
       "    </tr>\n",
       "    <tr>\n",
       "      <th>79107</th>\n",
       "      <td>http___www.dakaractu.com_etat-d-urgence-ou-fes...</td>\n",
       "      <td>http://www.dakaractu.com/etat-d-urgence-ou-fes...</td>\n",
       "      <td>dakaractu</td>\n",
       "      <td>NaN</td>\n",
       "      <td>['https://www.dakaractu.com/photo/art/grande/4...</td>\n",
       "      <td>Etat d’urgence ou festin macabre ? (par MARVEL...</td>\n",
       "      <td>Profitant de la tragédie Covid-19 en cours dan...</td>\n",
       "      <td>Dakaractu</td>\n",
       "      <td>Jeudi 16 Avril 2020</td>\n",
       "      <td>Etat d’urgence ou festin macabre ? (par MARVEL...</td>\n",
       "    </tr>\n",
       "    <tr>\n",
       "      <th>79108</th>\n",
       "      <td>http___www.dakaractu.com_saisie-de-7625-kg-de-...</td>\n",
       "      <td>http://www.dakaractu.com/saisie-de-7625-kg-de-...</td>\n",
       "      <td>dakaractu</td>\n",
       "      <td>NaN</td>\n",
       "      <td>['https://www.dakaractu.com/photo/art/grande/4...</td>\n",
       "      <td>Saisie de 7,625 kg de haschich à Mbour : le po...</td>\n",
       "      <td>Dakaractu révélait avant-hier que les limiers ...</td>\n",
       "      <td>Dakar actu</td>\n",
       "      <td>Jeudi 16 Avril 2020</td>\n",
       "      <td>Saisie de 7,625 kg de haschich à Mbour : le po...</td>\n",
       "    </tr>\n",
       "    <tr>\n",
       "      <th>79109</th>\n",
       "      <td>http___www.dakaractu.com_fatick-foundiougne-go...</td>\n",
       "      <td>http://www.dakaractu.com/fatick-foundiougne-go...</td>\n",
       "      <td>dakaractu</td>\n",
       "      <td>NaN</td>\n",
       "      <td>['https://www.dakaractu.com/photo/art/grande/4...</td>\n",
       "      <td>Fatick, Foundiougne, Gossas, Sokone : 114 cart...</td>\n",
       "      <td>L’ONG Femmes Plus déroule son programme d’urge...</td>\n",
       "      <td>Dakaractu</td>\n",
       "      <td>Jeudi 16 Avril 2020</td>\n",
       "      <td>Fatick, Foundiougne, Gossas, Sokone : 114 cart...</td>\n",
       "    </tr>\n",
       "    <tr>\n",
       "      <th>79110</th>\n",
       "      <td>http___www.dakaractu.com_dahra-djoloff-un-emig...</td>\n",
       "      <td>http://www.dakaractu.com/dahra-djoloff-un-emig...</td>\n",
       "      <td>dakaractu</td>\n",
       "      <td>NaN</td>\n",
       "      <td>['https://www.dakaractu.com/photo/art/grande/4...</td>\n",
       "      <td>DAHRA-DJOLOFF : Un émigré arrêté pour viol sur...</td>\n",
       "      <td>L’émigré Mamadou Lèye est dans de sales draps....</td>\n",
       "      <td>Dakar actu</td>\n",
       "      <td>Jeudi 16 Avril 2020</td>\n",
       "      <td>L’émigré Mamadou Lèye est dans de sales draps....</td>\n",
       "    </tr>\n",
       "    <tr>\n",
       "      <th>79111</th>\n",
       "      <td>http___thieysenegal.com_actualite-internationa...</td>\n",
       "      <td>http://thieysenegal.com/actualite-internationa...</td>\n",
       "      <td>thieysenegal</td>\n",
       "      <td>NaN</td>\n",
       "      <td>[]</td>\n",
       "      <td>Coronavirus: l’Afrique face à la pandémie merc...</td>\n",
       "      <td>Thiey Senegal,actualité sénégalaise,informatio...</td>\n",
       "      <td>Thiey Senegal</td>\n",
       "      <td>NaN</td>\n",
       "      <td>THIEYSENEGAL.com : L’Afrique comptait ce mercr...</td>\n",
       "    </tr>\n",
       "  </tbody>\n",
       "</table>\n",
       "<p>71494 rows × 10 columns</p>\n",
       "</div>"
      ],
      "text/plain": [
       "                                      identifiantArticle  \\\n",
       "0      https___www.journaldupays.com_2020_casamance-l...   \n",
       "1      https___www.xibaaru.sn_covid-19-des-volontaire...   \n",
       "2      https___www.vivafrik.com_2020_03_21_miser-sur-...   \n",
       "3      https___www.dakaractu.com_saint-louis-alioune-...   \n",
       "4      http___thieysenegal.com_actualite-internationa...   \n",
       "...                                                  ...   \n",
       "79107  http___www.dakaractu.com_etat-d-urgence-ou-fes...   \n",
       "79108  http___www.dakaractu.com_saisie-de-7625-kg-de-...   \n",
       "79109  http___www.dakaractu.com_fatick-foundiougne-go...   \n",
       "79110  http___www.dakaractu.com_dahra-djoloff-un-emig...   \n",
       "79111  http___thieysenegal.com_actualite-internationa...   \n",
       "\n",
       "                                              urlArticle  sourceArticle  \\\n",
       "0      https://www.journaldupays.com/2020/casamance-l...  journaldupays   \n",
       "1      https://www.xibaaru.sn/covid-19-des-volontaire...        xibaaru   \n",
       "2      https://www.vivafrik.com/2020/03/21/miser-sur-...       vivafrik   \n",
       "3      https://www.dakaractu.com/saint-louis-alioune-...      dakaractu   \n",
       "4      http://thieysenegal.com/actualite-internationa...   thieysenegal   \n",
       "...                                                  ...            ...   \n",
       "79107  http://www.dakaractu.com/etat-d-urgence-ou-fes...      dakaractu   \n",
       "79108  http://www.dakaractu.com/saisie-de-7625-kg-de-...      dakaractu   \n",
       "79109  http://www.dakaractu.com/fatick-foundiougne-go...      dakaractu   \n",
       "79110  http://www.dakaractu.com/dahra-djoloff-un-emig...      dakaractu   \n",
       "79111  http://thieysenegal.com/actualite-internationa...   thieysenegal   \n",
       "\n",
       "      thematiqueArticle                                      imagesArticle  \\\n",
       "0             Actualité  ['https://www.journaldupays.com/wp-content/upl...   \n",
       "1                 Santé  ['https://www.xibaaru.sn/wp-content/uploads/20...   \n",
       "2                   NaN  ['https://www.vivafrik.com/wp-content/plugins/...   \n",
       "3                   NaN  ['https://www.dakaractu.com/photo/art/grande/4...   \n",
       "4                   NaN  ['http://thieysenegal.com/images/covidee19mode...   \n",
       "...                 ...                                                ...   \n",
       "79107               NaN  ['https://www.dakaractu.com/photo/art/grande/4...   \n",
       "79108               NaN  ['https://www.dakaractu.com/photo/art/grande/4...   \n",
       "79109               NaN  ['https://www.dakaractu.com/photo/art/grande/4...   \n",
       "79110               NaN  ['https://www.dakaractu.com/photo/art/grande/4...   \n",
       "79111               NaN                                                 []   \n",
       "\n",
       "                                            titreArticle  \\\n",
       "0      Casamance : L’état de siège instauré par le MF...   \n",
       "1      Covid-19 : Des volontaires de la Croix Rouge e...   \n",
       "2      Miser sur l'innovation en Afrique pour booster...   \n",
       "3      Saint-Louis : Alioune Badara Diagne dit Golber...   \n",
       "4      Coronavirus: l’état du monde face à la pandémi...   \n",
       "...                                                  ...   \n",
       "79107  Etat d’urgence ou festin macabre ? (par MARVEL...   \n",
       "79108  Saisie de 7,625 kg de haschich à Mbour : le po...   \n",
       "79109  Fatick, Foundiougne, Gossas, Sokone : 114 cart...   \n",
       "79110  DAHRA-DJOLOFF : Un émigré arrêté pour viol sur...   \n",
       "79111  Coronavirus: l’Afrique face à la pandémie merc...   \n",
       "\n",
       "                                           resumeArticle    auteurArticle  \\\n",
       "0      Depuis hier lundi vers 20 heures par mégaphone...  Samsidine Badji   \n",
       "1      Un dispositif opérationnel de 1175 volontaires...              NaN   \n",
       "2      Miser sur l’innovation en Afrique pour booster...     Moctar FICOU   \n",
       "3      &nbsp; Rappelé à Dieu hier à&nbsp;l'âge de 79 ...        Dakaractu   \n",
       "4      Thiey Senegal,actualité sénégalaise,informatio...    Thiey Senegal   \n",
       "...                                                  ...              ...   \n",
       "79107  Profitant de la tragédie Covid-19 en cours dan...        Dakaractu   \n",
       "79108  Dakaractu révélait avant-hier que les limiers ...       Dakar actu   \n",
       "79109  L’ONG Femmes Plus déroule son programme d’urge...        Dakaractu   \n",
       "79110  L’émigré Mamadou Lèye est dans de sales draps....       Dakar actu   \n",
       "79111  Thiey Senegal,actualité sénégalaise,informatio...    Thiey Senegal   \n",
       "\n",
       "          datePublicationArticle  \\\n",
       "0      2020-03-31T09:37:45+00:00   \n",
       "1      2020-04-06T13:27:14+00:00   \n",
       "2      2020-03-21T08:38:55+00:00   \n",
       "3            Samedi 4 Avril 2020   \n",
       "4                            NaN   \n",
       "...                          ...   \n",
       "79107        Jeudi 16 Avril 2020   \n",
       "79108        Jeudi 16 Avril 2020   \n",
       "79109        Jeudi 16 Avril 2020   \n",
       "79110        Jeudi 16 Avril 2020   \n",
       "79111                        NaN   \n",
       "\n",
       "                                          contenuArticle  \n",
       "0      Depuis hier lundi vers 20 heures par mégaphone...  \n",
       "1      Un dispositif opérationnel de 1175 volontaires...  \n",
       "2      L’innovation joue un prépondérant dans le déve...  \n",
       "3      Saint-Louis : Alioune Badara Diagne dit Golber...  \n",
       "4      THIEYSENEGAL.com : Le nombre officiel de conta...  \n",
       "...                                                  ...  \n",
       "79107  Etat d’urgence ou festin macabre ? (par MARVEL...  \n",
       "79108  Saisie de 7,625 kg de haschich à Mbour : le po...  \n",
       "79109  Fatick, Foundiougne, Gossas, Sokone : 114 cart...  \n",
       "79110  L’émigré Mamadou Lèye est dans de sales draps....  \n",
       "79111  THIEYSENEGAL.com : L’Afrique comptait ce mercr...  \n",
       "\n",
       "[71494 rows x 10 columns]"
      ]
     },
     "execution_count": 9,
     "metadata": {},
     "output_type": "execute_result"
    }
   ],
   "source": [
    "# On supprime les articles qui n'ont pas de contenu article\n",
    "data.dropna(subset=[\"contenuArticle\"], inplace = True)\n",
    "data.dropna(subset=[\"resumeArticle\"], inplace = True)\n",
    "data"
   ]
  },
  {
   "cell_type": "code",
   "execution_count": 3,
   "id": "ace25a0b",
   "metadata": {},
   "outputs": [],
   "source": [
    "import spacy\n",
    "nlp = spacy.load(\"fr_core_news_sm\")\n",
    "# Les mots vides de notre jeu de données\n",
    "french_stopwords = spacy.lang.fr.stop_words.STOP_WORDS"
   ]
  },
  {
   "cell_type": "code",
   "execution_count": 4,
   "id": "5e1453b2",
   "metadata": {},
   "outputs": [],
   "source": [
    "# Ajouter quelques mots vides\n",
    "french_stopwords.add('mal')\n",
    "french_stopwords.add('ensuite')\n",
    "french_stopwords.add('veut')\n",
    "french_stopwords.add('jamais')"
   ]
  },
  {
   "cell_type": "code",
   "execution_count": 7,
   "id": "512d8b92",
   "metadata": {},
   "outputs": [],
   "source": [
    "# Définition de Fonction doc_without_stop_word pour le pre-traitement des textes\n",
    "def doc_without_stop_word(text):\n",
    "    doc = nlp(text)\n",
    "    filtered = [str(token.text).lower() for token in doc if token.is_stop==False and token.text.isalpha()==True]\n",
    "    filtered_text = ' '.join(filtered)\n",
    "    return filtered_text"
   ]
  },
  {
   "cell_type": "code",
   "execution_count": 10,
   "id": "5e933e5a",
   "metadata": {},
   "outputs": [
    {
     "data": {
      "text/plain": [
       "0        hier lundi heures mégaphone villages casamance...\n",
       "1        dispositif opérationnel volontaires croix roug...\n",
       "2        miser innovation afrique booster agriculture s...\n",
       "3        nbsp rappelé dieu hier âge ans suites journali...\n",
       "4        thiey senegal actualité sénégalaise informatio...\n",
       "                               ...                        \n",
       "79107    profitant tragédie cours monde sénégal gouvern...\n",
       "79108    dakaractu révélait limiers commissariat urbain...\n",
       "79109    ong femmes déroule programme urgence combatton...\n",
       "79110    émigré mamadou lèye sales draps accusé violé f...\n",
       "79111    thiey senegal actualité sénégalaise informatio...\n",
       "Name: text_filtre, Length: 71494, dtype: object"
      ]
     },
     "execution_count": 10,
     "metadata": {},
     "output_type": "execute_result"
    }
   ],
   "source": [
    "# Le contenu sans mots vides\n",
    "data['text_filtre'] = data['resumeArticle'].apply(lambda x: doc_without_stop_word(x))\n",
    "data['text_filtre']"
   ]
  },
  {
   "cell_type": "markdown",
   "id": "a2f2b7e7",
   "metadata": {},
   "source": [
    "#### La requete"
   ]
  },
  {
   "cell_type": "code",
   "execution_count": null,
   "id": "53d21342",
   "metadata": {},
   "outputs": [],
   "source": [
    "requete = \"Depuis hier lundi par mégaphone,1 plusieurs villages de Casamance ont reçu et recevoir un message de confinement.\""
   ]
  },
  {
   "cell_type": "markdown",
   "id": "e0cd08ee",
   "metadata": {},
   "source": [
    "#### Les prétraitement concernant la requête "
   ]
  },
  {
   "cell_type": "code",
   "execution_count": null,
   "id": "3b4f8651",
   "metadata": {},
   "outputs": [],
   "source": [
    "# Liste des termes à retenir de la requête\n",
    "requete_filtre=[]\n",
    "# Traiter la requête\n",
    "doc = nlp(requete)\n",
    "requete_filtre = doc_without_stop_word(doc)\n",
    "requete_filtre"
   ]
  },
  {
   "cell_type": "markdown",
   "id": "d505812d",
   "metadata": {},
   "source": [
    "### Lemmatization"
   ]
  },
  {
   "cell_type": "code",
   "execution_count": 10,
   "id": "a3518137",
   "metadata": {},
   "outputs": [],
   "source": [
    "def lemmatization(text):\n",
    "    doc = nlp(text)\n",
    "    for token in doc:\n",
    "        print(token.text,' -> ',token.lemma_)"
   ]
  },
  {
   "cell_type": "code",
   "execution_count": null,
   "id": "32851397",
   "metadata": {},
   "outputs": [],
   "source": []
  },
  {
   "cell_type": "markdown",
   "id": "c7739ebe",
   "metadata": {},
   "source": [
    "### TF-IDF Vectors"
   ]
  },
  {
   "cell_type": "code",
   "execution_count": 11,
   "id": "9d740105",
   "metadata": {},
   "outputs": [],
   "source": [
    "from sklearn.feature_extraction.text import CountVectorizer"
   ]
  },
  {
   "cell_type": "code",
   "execution_count": 12,
   "id": "128e0d7c",
   "metadata": {},
   "outputs": [
    {
     "data": {
      "text/plain": [
       "CountVectorizer()"
      ]
     },
     "execution_count": 12,
     "metadata": {},
     "output_type": "execute_result"
    }
   ],
   "source": [
    "cv = CountVectorizer()\n",
    "cv.fit(data['text_filtre'])"
   ]
  },
  {
   "cell_type": "code",
   "execution_count": 13,
   "id": "9fb64038",
   "metadata": {},
   "outputs": [
    {
     "data": {
      "text/plain": [
       "(71494, 47471)"
      ]
     },
     "execution_count": 13,
     "metadata": {},
     "output_type": "execute_result"
    }
   ],
   "source": [
    "dtm = cv.transform(data['text_filtre'])\n",
    "dtm.shape"
   ]
  },
  {
   "cell_type": "code",
   "execution_count": 14,
   "id": "753136a4",
   "metadata": {},
   "outputs": [
    {
     "name": "stderr",
     "output_type": "stream",
     "text": [
      "C:\\Users\\lamzo\\anaconda3\\lib\\site-packages\\sklearn\\utils\\deprecation.py:87: FutureWarning: Function get_feature_names is deprecated; get_feature_names is deprecated in 1.0 and will be removed in 1.2. Please use get_feature_names_out instead.\n",
      "  warnings.warn(msg, category=FutureWarning)\n"
     ]
    }
   ],
   "source": [
    "terms = cv.get_feature_names()\n",
    "df_cv = pd.DataFrame(dtm.toarray(), columns=terms)"
   ]
  },
  {
   "cell_type": "code",
   "execution_count": null,
   "id": "d5f78581",
   "metadata": {},
   "outputs": [],
   "source": []
  }
 ],
 "metadata": {
  "kernelspec": {
   "display_name": "Python 3 (ipykernel)",
   "language": "python",
   "name": "python3"
  },
  "language_info": {
   "codemirror_mode": {
    "name": "ipython",
    "version": 3
   },
   "file_extension": ".py",
   "mimetype": "text/x-python",
   "name": "python",
   "nbconvert_exporter": "python",
   "pygments_lexer": "ipython3",
   "version": "3.9.13"
  }
 },
 "nbformat": 4,
 "nbformat_minor": 5
}
